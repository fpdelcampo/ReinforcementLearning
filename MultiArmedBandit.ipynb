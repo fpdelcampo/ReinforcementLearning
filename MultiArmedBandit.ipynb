{
 "cells": [
  {
   "cell_type": "code",
   "execution_count": 358,
   "metadata": {},
   "outputs": [],
   "source": [
    "import numpy as np\n",
    "import matplotlib.pyplot as plt"
   ]
  },
  {
   "cell_type": "code",
   "execution_count": 359,
   "metadata": {},
   "outputs": [],
   "source": [
    "K = 10\n",
    "TRIALS = 1000\n",
    "ITERATIONS = 2000\n",
    "MEAN_MEAN = 0\n",
    "MEAN_STDDEV = 1\n",
    "SAMPLE_STDDEV = 1\n",
    "MEANS = np.random.normal(MEAN_MEAN, MEAN_STDDEV, K)\n",
    "DATA = np.array([np.random.normal(mu, SAMPLE_STDDEV, TRIALS) for mu in MEANS])\n",
    "EPSILON = 0.1"
   ]
  },
  {
   "cell_type": "code",
   "execution_count": 360,
   "metadata": {},
   "outputs": [
    {
     "name": "stdout",
     "output_type": "stream",
     "text": [
      "[-0.24059803  0.08535319  0.18693816  1.08047828  1.21759897  1.70530423\n",
      " -0.886154    0.86109366  0.10833658 -0.57883476]\n",
      "[-0.23266382  0.05580049  0.14400212  1.12892681  1.22557471  1.69892046\n",
      " -0.9187254   0.87168865  0.09954328 -0.52385953]\n"
     ]
    }
   ],
   "source": [
    "print(MEANS)\n",
    "print(np.mean(DATA, axis=1))"
   ]
  },
  {
   "cell_type": "code",
   "execution_count": 363,
   "metadata": {},
   "outputs": [],
   "source": [
    "class Env:\n",
    "    def __init__(self, data, true_means, step=0):\n",
    "        self.data = data\n",
    "        self.true_means = true_means\n",
    "        self.length = data.shape[1]\n",
    "        self.step = step\n",
    "\n",
    "class Bandit:\n",
    "    def __init__(self, k, env, epsilon=None, ucb=None, gradient=None, init_estimates=0, iters=2000):\n",
    "        self.k = k\n",
    "        self.env = env\n",
    "        self.epsilon = epsilon\n",
    "        self.ucb = ucb\n",
    "        self.gradient = gradient\n",
    "        self.init_estimates = init_estimates\n",
    "        self.iters = iters\n",
    "        self.counts = np.zeros(k)\n",
    "        self.estimates = np.full(self.k, self.init_estimates, dtype=float)\n",
    "        self.avg = np.zeros(env.length, dtype=float)\n",
    "        self.opt = np.zeros(env.length, dtype=float)\n",
    "    \n",
    "    def select(self):\n",
    "        if self.epsilon is not None:\n",
    "            x = np.random.random()\n",
    "            if x > self.epsilon:\n",
    "                return np.argmax(self.estimates)\n",
    "            else:\n",
    "                return np.random.randint(0, self.k)\n",
    "\n",
    "        if self.ucb:\n",
    "            return np.argmax(self.estimates + self.ucb*np.sqrt(np.log(1 + self.env.step) / (self.counts + 1e-5)))\n",
    "        \n",
    "        if self.gradient:\n",
    "            return 0            \n",
    "#test\n",
    "    def act(self):\n",
    "        index = self.select()\n",
    "        reward = self.env.data[index, self.env.step]\n",
    "        n = self.counts[index]\n",
    "        mean = self.estimates[index]\n",
    "        self.counts[index] += 1\n",
    "        self.estimates[index] = (n*mean + reward)/(n+1)\n",
    "        if self.env.step == 0:\n",
    "            self.avg[self.env.step] = reward\n",
    "            if index == np.argmax(self.env.true_means):\n",
    "                self.opt[self.env.step] = 1\n",
    "            else:\n",
    "                self.opt[self.env.step] = 0\n",
    "        else:\n",
    "            self.avg[self.env.step] = (self.env.step * self.avg[self.env.step-1] + reward)/(self.env.step + 1)\n",
    "            if index == np.argmax(self.env.true_means):\n",
    "                self.opt[self.env.step] = (self.env.step * self.opt[self.env.step-1] + 1)/(self.env.step + 1)\n",
    "            else:\n",
    "                self.opt[self.env.step] = (self.env.step * self.opt[self.env.step-1])/(self.env.step + 1)\n",
    "        self.env.step += 1\n",
    "        \n",
    "    def reset(self):\n",
    "        self.counts = np.zeros(self.k)\n",
    "        self.estimates = np.full(self.k, self.init_estimates, dtype=float)\n",
    "        self.avg = np.zeros(self.env.length)\n",
    "        self.opt = np.zeros(self.env.length)\n",
    "        self.env.step = 0\n",
    "        \n",
    "    def run(self):\n",
    "        avg = np.zeros((self.iters, self.env.length))\n",
    "        opt = np.zeros((self.iters, self.env.length))\n",
    "        for i in range(self.iters):\n",
    "            for j in range(self.env.length):\n",
    "                self.act()\n",
    "                avg[i, j] = self.avg[j]\n",
    "                opt[i, j] = self.opt[j]\n",
    "            self.reset()\n",
    "        avg = np.mean(avg, axis=0)\n",
    "        opt = np.mean(opt, axis=0)\n",
    "        return avg, opt"
   ]
  },
  {
   "cell_type": "code",
   "execution_count": 364,
   "metadata": {},
   "outputs": [
    {
     "data": {
      "image/png": "[encoded data removed]",
      "text/plain": [
       "<Figure size 432x288 with 1 Axes>"
      ]
     },
     "metadata": {
      "needs_background": "light"
     },
     "output_type": "display_data"
    },
    {
     "data": {
      "image/png": "[encoded data removed]",
      "text/plain": [
       "<Figure size 432x288 with 1 Axes>"
      ]
     },
     "metadata": {
      "needs_background": "light"
     },
     "output_type": "display_data"
    }
   ],
   "source": [
    "env = Env(DATA, MEANS)\n",
    "bandit1 = Bandit(K, env, epsilon=EPSILON, init_estimates=0, iters=ITERATIONS)\n",
    "avg1, opt1 = bandit1.run()\n",
    "plt.plot(avg1, color='blue')\n",
    "\n",
    "bandit2 = Bandit(K, env, ucb=1, init_estimates=0, iters=ITERATIONS)\n",
    "avg2, opt2 = bandit2.run()\n",
    "plt.plot(avg2, color='red')\n",
    "plt.plot(np.full(TRIALS, np.max(MEANS)), color='green')\n",
    "plt.show()\n",
    "\n",
    "plt.plot(opt1, color='blue')\n",
    "plt.plot(opt2, color='red')\n",
    "plt.show()"
   ]
  },
  {
   "cell_type": "code",
   "execution_count": null,
   "metadata": {},
   "outputs": [],
   "source": []
  }
 ],
 "metadata": {
  "kernelspec": {
   "display_name": "MachineLearning",
   "language": "python",
   "name": "python3"
  },
  "language_info": {
   "codemirror_mode": {
    "name": "ipython",
    "version": 3
   },
   "file_extension": ".py",
   "mimetype": "text/x-python",
   "name": "python",
   "nbconvert_exporter": "python",
   "pygments_lexer": "ipython3",
   "version": "3.9.10"
  }
 },
 "nbformat": 4,
 "nbformat_minor": 2
}

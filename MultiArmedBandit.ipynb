{
 "cells": [
  {
   "cell_type": "code",
   "execution_count": 103,
   "metadata": {},
   "outputs": [],
   "source": [
    "import numpy as np\n",
    "import matplotlib.pyplot as plt"
   ]
  },
  {
   "cell_type": "code",
   "execution_count": 104,
   "metadata": {},
   "outputs": [],
   "source": [
    "K = 10\n",
    "TRIALS = 1000\n",
    "MEAN_STDDEV = 10\n",
    "SAMPLE_STDDEV = 10\n",
    "MEANS = np.random.normal(0, MEAN_STDDEV, 10)\n",
    "DATA = np.array([np.random.normal(mu, SAMPLE_STDDEV, 1000) for mu in MEANS])\n",
    "COUNTS = [0] * K"
   ]
  },
  {
   "cell_type": "code",
   "execution_count": 105,
   "metadata": {},
   "outputs": [
    {
     "name": "stdout",
     "output_type": "stream",
     "text": [
      "[-16.61274876  19.07171696  16.03580568   6.27311427  -9.67304706\n",
      "  17.37261248  15.80972653  19.04249065  -6.6191052  -12.37765474]\n",
      "[-16.66829228  18.8434228   16.54947031   6.03645123  -9.82589012\n",
      "  17.38286632  15.99958928  18.64111316  -5.94529532 -12.42440064]\n"
     ]
    }
   ],
   "source": [
    "print(MEANS)\n",
    "print(np.mean(DATA, axis=1))"
   ]
  },
  {
   "cell_type": "code",
   "execution_count": 106,
   "metadata": {},
   "outputs": [],
   "source": [
    "class Env:\n",
    "    def __init__(self, data, step=0):\n",
    "        self.data = data\n",
    "        self.length = data.shape[1]\n",
    "        self.step = step\n",
    "\n",
    "class Bandit:\n",
    "    def __init__(self, k, epsilon, env):\n",
    "        self.k = k\n",
    "        self.epsilon = epsilon\n",
    "        self.env = env\n",
    "        self.counts = [0 for _ in range(k)]\n",
    "        self.estimates = [0 for _ in range(k)]\n",
    "        self.reward = 0\n",
    "        self.avg = [0 for _ in range(env.length)]\n",
    "    \n",
    "    def act(self):\n",
    "        x = np.random.random()\n",
    "        if x > self.epsilon:\n",
    "            index = np.argmax(self.estimates)\n",
    "        else:\n",
    "            index = np.random.randint(0, self.k)\n",
    "\n",
    "        x = self.env.data[index, self.env.step]\n",
    "        n = self.counts[index]\n",
    "        mean = self.estimates[index]\n",
    "        self.counts[index] += 1\n",
    "        self.estimates[index] = (n*mean+x)/(n+1)\n",
    "        self.reward += x\n",
    "        if self.env.step == 0:\n",
    "            self.avg[self.env.step] = x\n",
    "        else:\n",
    "            self.avg[self.env.step] = (self.env.step*self.avg[self.env.step-1] + x)/(self.env.step+1)\n",
    "        self.env.step += 1\n",
    "        \n",
    "    def reset(self):\n",
    "        self.counts = self.k*[0]\n",
    "        self.estimates = self.k*[0]\n",
    "        self.reward = 0\n",
    "        self.avg = self.env.length * [0]\n",
    "        self.env.step = 0\n",
    "        \n",
    "    def run(self):\n",
    "        for i in range(self.env.length):\n",
    "            self.act()\n",
    "        return self.reward"
   ]
  },
  {
   "cell_type": "code",
   "execution_count": 107,
   "metadata": {},
   "outputs": [
    {
     "data": {
      "image/png": "[encoded data removed]",
      "text/plain": [
       "<Figure size 432x288 with 1 Axes>"
      ]
     },
     "metadata": {
      "needs_background": "light"
     },
     "output_type": "display_data"
    }
   ],
   "source": [
    "env = Env(DATA)\n",
    "bandit = Bandit(K, 0.1, env)\n",
    "bandit.run()\n",
    "plt.plot(bandit.avg)\n",
    "bandit.reset()"
   ]
  }
 ],
 "metadata": {
  "kernelspec": {
   "display_name": "MachineLearning",
   "language": "python",
   "name": "python3"
  },
  "language_info": {
   "codemirror_mode": {
    "name": "ipython",
    "version": 3
   },
   "file_extension": ".py",
   "mimetype": "text/x-python",
   "name": "python",
   "nbconvert_exporter": "python",
   "pygments_lexer": "ipython3",
   "version": "3.9.10"
  }
 },
 "nbformat": 4,
 "nbformat_minor": 2
}

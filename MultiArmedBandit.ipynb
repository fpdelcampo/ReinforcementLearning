{
 "cells": [
  {
   "cell_type": "code",
   "execution_count": 108,
   "metadata": {},
   "outputs": [],
   "source": [
    "import numpy as np\n",
    "import matplotlib.pyplot as plt"
   ]
  },
  {
   "cell_type": "code",
   "execution_count": 109,
   "metadata": {},
   "outputs": [],
   "source": [
    "K = 10\n",
    "TRIALS = 1000\n",
    "MEAN_STDDEV = 10\n",
    "SAMPLE_STDDEV = 10\n",
    "MEANS = np.random.normal(0, MEAN_STDDEV, 10)\n",
    "DATA = np.array([np.random.normal(mu, SAMPLE_STDDEV, 1000) for mu in MEANS])\n",
    "EPSILON = 0.1"
   ]
  },
  {
   "cell_type": "code",
   "execution_count": 110,
   "metadata": {},
   "outputs": [
    {
     "name": "stdout",
     "output_type": "stream",
     "text": [
      "[ 21.20013748   1.80005687   7.99516487  -0.48204753  -4.76087234\n",
      "  -7.60342497   0.21185643 -10.51991215 -18.92880095  14.35132874]\n",
      "[ 20.85966738   1.74990624   7.72619953  -0.14538168  -4.90603466\n",
      "  -7.49878551   0.30921625 -10.48916063 -18.85919585  14.90862227]\n"
     ]
    }
   ],
   "source": [
    "print(MEANS)\n",
    "print(np.mean(DATA, axis=1))"
   ]
  },
  {
   "cell_type": "code",
   "execution_count": 111,
   "metadata": {},
   "outputs": [],
   "source": [
    "class Env:\n",
    "    def __init__(self, data, step=0):\n",
    "        self.data = data\n",
    "        self.length = data.shape[1]\n",
    "        self.step = step\n",
    "\n",
    "class Bandit:\n",
    "    def __init__(self, k, epsilon, env):\n",
    "        self.k = k\n",
    "        self.epsilon = epsilon\n",
    "        self.env = env\n",
    "        self.counts = [0 for _ in range(k)]\n",
    "        self.estimates = [0 for _ in range(k)]\n",
    "        self.reward = 0\n",
    "        self.avg = [0 for _ in range(env.length)]\n",
    "    \n",
    "    def act(self):\n",
    "        x = np.random.random()\n",
    "        if x > self.epsilon:\n",
    "            index = np.argmax(self.estimates)\n",
    "        else:\n",
    "            index = np.random.randint(0, self.k)\n",
    "\n",
    "        x = self.env.data[index, self.env.step]\n",
    "        n = self.counts[index]\n",
    "        mean = self.estimates[index]\n",
    "        self.counts[index] += 1\n",
    "        self.estimates[index] = (n*mean+x)/(n+1)\n",
    "        self.reward += x\n",
    "        if self.env.step == 0:\n",
    "            self.avg[self.env.step] = x\n",
    "        else:\n",
    "            self.avg[self.env.step] = (self.env.step*self.avg[self.env.step-1] + x)/(self.env.step+1)\n",
    "        self.env.step += 1\n",
    "        \n",
    "    def reset(self):\n",
    "        self.counts = [0 for _ in range(self.k)]\n",
    "        self.estimates = [0 for _ in range(self.k)]\n",
    "        self.reward = 0\n",
    "        self.avg = [0 for _ in range(self.env.length)]\n",
    "        self.env.step = 0\n",
    "        \n",
    "    def run(self):\n",
    "        for i in range(self.env.length):\n",
    "            self.act()\n",
    "        return self.reward"
   ]
  },
  {
   "cell_type": "code",
   "execution_count": 112,
   "metadata": {},
   "outputs": [
    {
     "ename": "NameError",
     "evalue": "name 'k' is not defined",
     "output_type": "error",
     "traceback": [
      "\u001b[0;31m---------------------------------------------------------------------------\u001b[0m",
      "\u001b[0;31mNameError\u001b[0m                                 Traceback (most recent call last)",
      "\u001b[1;32m/Users/francisco/Code/ReinforcementLearning/MultiArmedBandit.ipynb Cell 5\u001b[0m line \u001b[0;36m<module>\u001b[0;34m\u001b[0m\n\u001b[1;32m      <a href='vscode-notebook-cell:/Users/francisco/Code/ReinforcementLearning/MultiArmedBandit.ipynb#W5sZmlsZQ%3D%3D?line=2'>3</a>\u001b[0m bandit\u001b[39m.\u001b[39mrun()\n\u001b[1;32m      <a href='vscode-notebook-cell:/Users/francisco/Code/ReinforcementLearning/MultiArmedBandit.ipynb#W5sZmlsZQ%3D%3D?line=3'>4</a>\u001b[0m plt\u001b[39m.\u001b[39mplot(bandit\u001b[39m.\u001b[39mavg)\n\u001b[0;32m----> <a href='vscode-notebook-cell:/Users/francisco/Code/ReinforcementLearning/MultiArmedBandit.ipynb#W5sZmlsZQ%3D%3D?line=4'>5</a>\u001b[0m bandit\u001b[39m.\u001b[39;49mreset()\n",
      "\u001b[1;32m/Users/francisco/Code/ReinforcementLearning/MultiArmedBandit.ipynb Cell 5\u001b[0m line \u001b[0;36mBandit.reset\u001b[0;34m(self)\u001b[0m\n\u001b[1;32m     <a href='vscode-notebook-cell:/Users/francisco/Code/ReinforcementLearning/MultiArmedBandit.ipynb#W5sZmlsZQ%3D%3D?line=35'>36</a>\u001b[0m \u001b[39mdef\u001b[39;00m \u001b[39mreset\u001b[39m(\u001b[39mself\u001b[39m):\n\u001b[0;32m---> <a href='vscode-notebook-cell:/Users/francisco/Code/ReinforcementLearning/MultiArmedBandit.ipynb#W5sZmlsZQ%3D%3D?line=36'>37</a>\u001b[0m     \u001b[39mself\u001b[39m\u001b[39m.\u001b[39mcounts \u001b[39m=\u001b[39m [\u001b[39m0\u001b[39m \u001b[39mfor\u001b[39;00m _ \u001b[39min\u001b[39;00m \u001b[39mrange\u001b[39m(k)]\n\u001b[1;32m     <a href='vscode-notebook-cell:/Users/francisco/Code/ReinforcementLearning/MultiArmedBandit.ipynb#W5sZmlsZQ%3D%3D?line=37'>38</a>\u001b[0m     \u001b[39mself\u001b[39m\u001b[39m.\u001b[39mestimates \u001b[39m=\u001b[39m [\u001b[39m0\u001b[39m \u001b[39mfor\u001b[39;00m _ \u001b[39min\u001b[39;00m \u001b[39mrange\u001b[39m(k)]\n\u001b[1;32m     <a href='vscode-notebook-cell:/Users/francisco/Code/ReinforcementLearning/MultiArmedBandit.ipynb#W5sZmlsZQ%3D%3D?line=38'>39</a>\u001b[0m     \u001b[39mself\u001b[39m\u001b[39m.\u001b[39mreward \u001b[39m=\u001b[39m \u001b[39m0\u001b[39m\n",
      "\u001b[0;31mNameError\u001b[0m: name 'k' is not defined"
     ]
    },
    {
     "data": {
      "image/png": "[encoded data removed]",
      "text/plain": [
       "<Figure size 432x288 with 1 Axes>"
      ]
     },
     "metadata": {
      "needs_background": "light"
     },
     "output_type": "display_data"
    }
   ],
   "source": [
    "env = Env(DATA)\n",
    "bandit = Bandit(K, EPSILON, env)\n",
    "bandit.run()\n",
    "plt.plot(bandit.avg)\n",
    "bandit.reset()"
   ]
  }
 ],
 "metadata": {
  "kernelspec": {
   "display_name": "MachineLearning",
   "language": "python",
   "name": "python3"
  },
  "language_info": {
   "codemirror_mode": {
    "name": "ipython",
    "version": 3
   },
   "file_extension": ".py",
   "mimetype": "text/x-python",
   "name": "python",
   "nbconvert_exporter": "python",
   "pygments_lexer": "ipython3",
   "version": "3.9.10"
  }
 },
 "nbformat": 4,
 "nbformat_minor": 2
}
